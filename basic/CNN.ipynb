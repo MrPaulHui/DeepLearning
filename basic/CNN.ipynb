{
 "cells": [
  {
   "cell_type": "code",
   "execution_count": null,
   "metadata": {},
   "outputs": [],
   "source": [
    "def compute_CNN_params(input_img_size, cnn_params):\n",
    "    feature_map = {}\n",
    "    RF = {}\n",
    "    flops = {}\n",
    "    now_size = input_img_size.copy()\n",
    "    for layer in cnn_params:\n",
    "        now_size[2] = cnn_params[layer]['kernel'][2]\n",
    "        now_size[0] = now_size[0]-cnn_params[layer]['kernel']"
   ]
  }
 ],
 "metadata": {
  "kernelspec": {
   "display_name": "Python 3",
   "language": "python",
   "name": "python3"
  },
  "language_info": {
   "codemirror_mode": {
    "name": "ipython",
    "version": 3
   },
   "file_extension": ".py",
   "mimetype": "text/x-python",
   "name": "python",
   "nbconvert_exporter": "python",
   "pygments_lexer": "ipython3",
   "version": "3.7.1"
  }
 },
 "nbformat": 4,
 "nbformat_minor": 2
}
